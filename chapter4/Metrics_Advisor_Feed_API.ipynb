{
 "cells": [
  {
   "cell_type": "code",
   "execution_count": null,
   "id": "413271a1",
   "metadata": {},
   "outputs": [],
   "source": [
    "from azure.ai.metricsadvisor import MetricsAdvisorClient, MetricsAdvisorKeyCredential"
   ]
  },
  {
   "cell_type": "code",
   "execution_count": null,
   "id": "5a3d8521",
   "metadata": {},
   "outputs": [],
   "source": [
    "client = MetricsAdvisorClient(endpoint=\"https://<your-endpoint>.cognitiveservices.azure.com/\",\n",
    "                              credential=MetricsAdvisorKeyCredential(\"<subscription_key>\", \"<api_key>\"))\n"
   ]
  },
  {
   "cell_type": "code",
   "execution_count": null,
   "id": "9b57f5bf",
   "metadata": {},
   "outputs": [],
   "source": [
    "data_feed = {\n",
    "    \"dataSourceType\": \"AzureBlob\",\n",
    "    \"dataSourceParameter\": {\n",
    "        \"connectionString\": \"<your-connection-string>\",\n",
    "        \"container\": \"<your-container>\",\n",
    "        \"blobTemplate\": \"<your-blob-template>\"\n",
    "    },\n",
    "    \"dataSchema\": {\n",
    "        \"timestampColumn\": \"timestamp\",\n",
    "        \"valueColumns\": [\"metric1\", \"metric2\"],\n",
    "        \"dimensionColumns\": [\"dimension1\", \"dimension2\"]\n",
    "    }\n",
    "}"
   ]
  },
  {
   "cell_type": "code",
   "execution_count": null,
   "id": "58d8b0c6",
   "metadata": {},
   "outputs": [],
   "source": [
    "client.create_data_feed(data_feed)"
   ]
  },
  {
   "cell_type": "code",
   "execution_count": null,
   "id": "00ac2c9e",
   "metadata": {},
   "outputs": [],
   "source": [
    "detection_config = {\n",
    "    \"name\": \"My Detection Config\",\n",
    "    \"description\": \"Detect anomalies in my dataset\",\n",
    "    \"metricId\": \"<metric-id>\",\n",
    "    \"anomalyDetectionConfiguration\": {\n",
    "        \"detectionConditions\": {\n",
    "            \"smartDetectionCondition\": {\n",
    "                \"sensitivity\": 95,\n",
    "                \"anomalyDetectorDirection\": \"Both\",\n",
    "                \"suppressCondition\": {\n",
    "                    \"minNumber\": 2,\n",
    "                    \"minRatio\": 0.1\n",
    "                }\n",
    "            }\n",
    "        }\n",
    "    }\n",
    "}\n",
    "\n",
    "client.create_detection_configuration(detection_config)"
   ]
  },
  {
   "cell_type": "code",
   "execution_count": null,
   "id": "be9b4f0b",
   "metadata": {},
   "outputs": [],
   "source": [
    "alert_config = {\n",
    "    \"name\": \"My Alert Config\",\n",
    "    \"crossMetricsOperator\": \"OR\",\n",
    "    \"hookIds\": [\"<hook-id>\"],\n",
    "    \"alertConditions\": {\n",
    "        \"severityCondition\": {\n",
    "            \"minAlertSeverity\": \"Medium\",\n",
    "            \"maxAlertSeverity\": \"High\"\n",
    "        }\n",
    "    }\n",
    "}\n",
    "\n",
    "client.create_alert_configuration(alert_config)"
   ]
  },
  {
   "cell_type": "code",
   "execution_count": null,
   "id": "cf979cf5",
   "metadata": {},
   "outputs": [],
   "source": [
    "email_hook = {\n",
    "    \"name\": \"Email Hook\",\n",
    "    \"description\": \"Email notifications for anomalies\",\n",
    "    \"hookType\": \"Email\",\n",
    "    \"hookParameter\": {\n",
    "        \"toList\": [\"ronald@example.com\"]\n",
    "    }\n",
    "}\n",
    "\n",
    "client.create_hook(email_hook)"
   ]
  },
  {
   "cell_type": "code",
   "execution_count": null,
   "id": "b1795c40",
   "metadata": {},
   "outputs": [],
   "source": [
    "anomalies = client.list_anomalies_for_detection_configuration(\n",
    "    detection_configuration_id=\"<detection-config-id>\",\n",
    "    start_time=datetime.datetime(2023, 1, 1),\n",
    "    end_time=datetime.datetime(2023, 12, 31)\n",
    ")\n",
    "\n",
    "for anomaly in anomalies:\n",
    "    print(f\"Anomaly detected at {anomaly.timestamp} with severity {anomaly.severity}\")"
   ]
  },
  {
   "cell_type": "code",
   "execution_count": null,
   "id": "44604de5",
   "metadata": {},
   "outputs": [],
   "source": [
    "alerts = client.list_alerts_for_alert_configuration(\n",
    "    alert_configuration_id=\"<alert-config-id>\",\n",
    "    start_time=datetime.datetime(2023, 1, 1),\n",
    "    end_time=datetime.datetime(2023, 12, 31)\n",
    ")\n",
    "\n",
    "for alert in alerts:\n",
    "    print(f\"Alert ID: {alert.id}, Created on: {alert.created_on}\")"
   ]
  }
 ],
 "metadata": {
  "kernelspec": {
   "display_name": "Python 3 (ipykernel)",
   "language": "python",
   "name": "python3"
  },
  "language_info": {
   "codemirror_mode": {
    "name": "ipython",
    "version": 3
   },
   "file_extension": ".py",
   "mimetype": "text/x-python",
   "name": "python",
   "nbconvert_exporter": "python",
   "pygments_lexer": "ipython3",
   "version": "3.9.12"
  }
 },
 "nbformat": 4,
 "nbformat_minor": 5
}
